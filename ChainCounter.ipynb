{
 "cells": [
  {
   "cell_type": "code",
   "execution_count": 1,
   "metadata": {},
   "outputs": [],
   "source": [
    "import ultralytics\n",
    "from ultralytics import YOLO, solutions\n",
    "#import supervision as sv\n",
    "#import torch\n",
    "import pandas as pd\n",
    "import plotly.express as px\n",
    "from datetime import datetime\n",
    "import time"
   ]
  },
  {
   "cell_type": "code",
   "execution_count": null,
   "metadata": {},
   "outputs": [],
   "source": [
    "#uncomment line below if using wandb.ai for experiment tracking\n",
    "#ultralytics.settings.update({\"wandb\" : True })"
   ]
  },
  {
   "cell_type": "code",
   "execution_count": null,
   "metadata": {},
   "outputs": [],
   "source": [
    "class_name = \"thalassiosira\"\n",
    "project = \"IFCB Chain Counter\"\n",
    "name = f\"IFCBChainCounts_{class_name}_n\""
   ]
  },
  {
   "cell_type": "markdown",
   "metadata": {},
   "source": [
    "TRAIN"
   ]
  },
  {
   "cell_type": "code",
   "execution_count": null,
   "metadata": {},
   "outputs": [],
   "source": [
    "#model = YOLO(\"YOLO11n-obb.yaml\").load(\"yolo11n.pt\") \n",
    "#model = YOLO(\"YOLO11s.yaml\").load(\"yolo11s.pt\") \n",
    "model = YOLO(\"yolo11x.pt\") \n",
    "\n",
    "\n",
    "#results = model.train(data=\"datasets/thalasiossira_rotated/data.yaml\", epochs=200, project=project_name)\n",
    "results = model.train(data=f\"datasets/{class_name}/data.yaml\", epochs=200, project=project, name=name)"
   ]
  },
  {
   "cell_type": "markdown",
   "metadata": {},
   "source": [
    "PREDICT"
   ]
  },
  {
   "cell_type": "code",
   "execution_count": 3,
   "metadata": {},
   "outputs": [],
   "source": [
    "#load model\n",
    "model = YOLO(f\"IFCB Chain Counter/{name}/weights/best.pt\")\n",
    "#model_normal_m = YOLO(\"IFCBChainCounts_Thalasiossira_normal_m/train/weights/best.pt\")"
   ]
  },
  {
   "cell_type": "code",
   "execution_count": null,
   "metadata": {},
   "outputs": [],
   "source": [
    "df = pd.read_csv(f'datasets/{class_name}/images/test/test_image_counts.csv')\n",
    "\n",
    "\n",
    "iou_range = 0.0\n",
    "#f = open(project_name + '/results/overall_results.csv', 'w')\n",
    "\n",
    "overall_results = pd.DataFrame(columns=['model_name', 'iou_range', 'total_difference'])\n",
    "\n",
    "\n",
    "for i in range(0,40):\n",
    "\n",
    "    print(\"Iteration:\" , i)\n",
    "    print(\"IOU_Value:\" , iou_range)\n",
    "\n",
    "    count_score = []\n",
    "\n",
    "    for index, row in df.iterrows():\n",
    "        #print(row['file_name'], \" Cell Count: \", row['cell_count'])\n",
    "\n",
    "        results = model([f'datasets/{class_name}/images/test/'+ row['file_name']], iou=iou_range, verbose=False)\n",
    "        \n",
    "        #get occurences in image from results and save output image\n",
    "        for result in results:\n",
    "            boxes = result.boxes  # Boxes object for bounding box outputs\n",
    "            probs = result.probs  # Probs object for classification outputs\n",
    "        \n",
    "            count_score.append(len(result.boxes))\n",
    "            #TODO: Only need to save files for the best run\n",
    "            #result.save(filename=\"IFCB Chain Counter/\" + name + f\"/results/result_{row['file_name']}\")\n",
    "        \n",
    "    \n",
    "    \n",
    "    test_results = df\n",
    "    test_results['output_count'] = count_score\n",
    "    test_results['difference'] = test_results['cell_count'] - test_results['output_count']\n",
    "\n",
    "    total_difference = test_results['difference'].abs().sum()\n",
    "\n",
    "    print(\"Total Difference is: \" , total_difference)\n",
    "\n",
    "    file_to_save = \"IFCB Chain Counter/\" + name + f\"/results/{name}_output_counts_iou_{iou_range}.csv\"\n",
    "    test_results.to_csv(file_to_save, index=False)\n",
    "\n",
    "    new_result_dict = pd.DataFrame.from_dict({\"model_name\" : [name], \"iou_range\": [iou_range],\"total_difference\": [total_difference]})\n",
    "    \n",
    "    overall_results = pd.concat([overall_results, new_result_dict], ignore_index=True)\n",
    "    \n",
    "\n",
    "    #f.close()\n",
    "\n",
    "    iou_range += 0.025\n",
    "\n",
    "\n",
    "\n",
    "overall_results.to_csv(\"IFCB Chain Counter/\" + name + '/results/overall_results.csv', index=False, mode='w', lineterminator='\\n')\n",
    "#f.close()"
   ]
  },
  {
   "cell_type": "code",
   "execution_count": null,
   "metadata": {},
   "outputs": [
    {
     "name": "stdout",
     "output_type": "stream",
     "text": [
      "              model_name  iou_range  total_difference\n",
      "0   thalassiosira_1000_x      0.000             510.0\n",
      "1   thalassiosira_1000_x      0.025             344.0\n",
      "2   thalassiosira_1000_x      0.050             233.0\n",
      "3   thalassiosira_1000_x      0.075             174.0\n",
      "4   thalassiosira_1000_x      0.100             139.0\n",
      "..                   ...        ...               ...\n",
      "35  thalassiosira_1000_n      0.875             162.0\n",
      "36  thalassiosira_1000_n      0.900             178.0\n",
      "37  thalassiosira_1000_n      0.925             221.0\n",
      "38  thalassiosira_1000_n      0.950             334.0\n",
      "39  thalassiosira_1000_n      0.975             968.0\n",
      "\n",
      "[200 rows x 3 columns]\n"
     ]
    },
    {
     "data": {
      "application/vnd.plotly.v1+json": {
       "config": {
        "plotlyServerURL": "https://plot.ly"
       },
       "data": [
        {
         "hovertemplate": "model_name=thalassiosira_1000_x<br>iou_range=%{x}<br>total_difference=%{y}<extra></extra>",
         "legendgroup": "thalassiosira_1000_x",
         "line": {
          "color": "#636efa",
          "dash": "solid"
         },
         "marker": {
          "symbol": "circle"
         },
         "mode": "lines",
         "name": "thalassiosira_1000_x",
         "orientation": "v",
         "showlegend": true,
         "type": "scatter",
         "x": [
          0,
          0.025,
          0.05,
          0.075,
          0.1,
          0.125,
          0.15,
          0.175,
          0.1999999999999999,
          0.2249999999999999,
          0.2499999999999999,
          0.2749999999999999,
          0.3,
          0.325,
          0.35,
          0.375,
          0.4000000000000001,
          0.4250000000000001,
          0.4500000000000001,
          0.4750000000000001,
          0.5000000000000001,
          0.5250000000000001,
          0.5500000000000002,
          0.5750000000000002,
          0.6000000000000002,
          0.6250000000000002,
          0.6500000000000002,
          0.6750000000000003,
          0.7000000000000003,
          0.7250000000000003,
          0.7500000000000003,
          0.7750000000000004,
          0.8000000000000004,
          0.8250000000000004,
          0.8500000000000004,
          0.8750000000000004,
          0.9000000000000005,
          0.9250000000000004,
          0.9500000000000004,
          0.9750000000000004
         ],
         "xaxis": "x",
         "y": [
          510,
          344,
          233,
          174,
          139,
          108,
          92,
          80,
          79,
          81,
          80,
          80,
          80,
          79,
          79,
          80,
          80,
          80,
          80,
          82,
          83,
          85,
          91,
          90,
          90,
          89,
          89,
          89,
          89,
          92,
          92,
          91,
          90,
          90,
          95,
          92,
          108,
          144,
          229,
          567
         ],
         "yaxis": "y"
        },
        {
         "hovertemplate": "model_name=thalassiosira_1000_l<br>iou_range=%{x}<br>total_difference=%{y}<extra></extra>",
         "legendgroup": "thalassiosira_1000_l",
         "line": {
          "color": "#EF553B",
          "dash": "solid"
         },
         "marker": {
          "symbol": "circle"
         },
         "mode": "lines",
         "name": "thalassiosira_1000_l",
         "orientation": "v",
         "showlegend": true,
         "type": "scatter",
         "x": [
          0,
          0.025,
          0.05,
          0.075,
          0.1,
          0.125,
          0.15,
          0.175,
          0.1999999999999999,
          0.2249999999999999,
          0.2499999999999999,
          0.2749999999999999,
          0.3,
          0.325,
          0.35,
          0.375,
          0.4000000000000001,
          0.4250000000000001,
          0.4500000000000001,
          0.4750000000000001,
          0.5000000000000001,
          0.5250000000000001,
          0.5500000000000002,
          0.5750000000000002,
          0.6000000000000002,
          0.6250000000000002,
          0.6500000000000002,
          0.6750000000000003,
          0.7000000000000003,
          0.7250000000000003,
          0.7500000000000003,
          0.7750000000000004,
          0.8000000000000004,
          0.8250000000000004,
          0.8500000000000004,
          0.8750000000000004,
          0.9000000000000005,
          0.9250000000000004,
          0.9500000000000004,
          0.9750000000000004
         ],
         "xaxis": "x",
         "y": [
          520,
          346,
          232,
          171,
          129,
          102,
          80,
          73,
          73,
          72,
          73,
          74,
          74,
          74,
          74,
          75,
          76,
          75,
          75,
          76,
          76,
          76,
          79,
          79,
          81,
          81,
          81,
          81,
          81,
          80,
          78,
          78,
          75,
          77,
          79,
          87,
          96,
          124,
          187,
          504
         ],
         "yaxis": "y"
        },
        {
         "hovertemplate": "model_name=thalassiosira_1000_m<br>iou_range=%{x}<br>total_difference=%{y}<extra></extra>",
         "legendgroup": "thalassiosira_1000_m",
         "line": {
          "color": "#00cc96",
          "dash": "solid"
         },
         "marker": {
          "symbol": "circle"
         },
         "mode": "lines",
         "name": "thalassiosira_1000_m",
         "orientation": "v",
         "showlegend": true,
         "type": "scatter",
         "x": [
          0,
          0.025,
          0.05,
          0.075,
          0.1,
          0.125,
          0.15,
          0.175,
          0.1999999999999999,
          0.2249999999999999,
          0.2499999999999999,
          0.2749999999999999,
          0.3,
          0.325,
          0.35,
          0.375,
          0.4000000000000001,
          0.4250000000000001,
          0.4500000000000001,
          0.4750000000000001,
          0.5000000000000001,
          0.5250000000000001,
          0.5500000000000002,
          0.5750000000000002,
          0.6000000000000002,
          0.6250000000000002,
          0.6500000000000002,
          0.6750000000000003,
          0.7000000000000003,
          0.7250000000000003,
          0.7500000000000003,
          0.7750000000000004,
          0.8000000000000004,
          0.8250000000000004,
          0.8500000000000004,
          0.8750000000000004,
          0.9000000000000005,
          0.9250000000000004,
          0.9500000000000004,
          0.9750000000000004
         ],
         "xaxis": "x",
         "y": [
          520,
          330,
          222,
          157,
          128,
          92,
          79,
          66,
          66,
          66,
          66,
          64,
          63,
          64,
          64,
          64,
          64,
          64,
          65,
          65,
          66,
          67,
          69,
          72,
          73,
          73,
          73,
          77,
          77,
          77,
          78,
          79,
          83,
          85,
          89,
          91,
          105,
          144,
          228,
          593
         ],
         "yaxis": "y"
        },
        {
         "hovertemplate": "model_name=thalassiosira_1000_s<br>iou_range=%{x}<br>total_difference=%{y}<extra></extra>",
         "legendgroup": "thalassiosira_1000_s",
         "line": {
          "color": "#ab63fa",
          "dash": "solid"
         },
         "marker": {
          "symbol": "circle"
         },
         "mode": "lines",
         "name": "thalassiosira_1000_s",
         "orientation": "v",
         "showlegend": true,
         "type": "scatter",
         "x": [
          0,
          0.025,
          0.05,
          0.075,
          0.1,
          0.125,
          0.15,
          0.175,
          0.1999999999999999,
          0.2249999999999999,
          0.2499999999999999,
          0.2749999999999999,
          0.3,
          0.325,
          0.35,
          0.375,
          0.4000000000000001,
          0.4250000000000001,
          0.4500000000000001,
          0.4750000000000001,
          0.5000000000000001,
          0.5250000000000001,
          0.5500000000000002,
          0.5750000000000002,
          0.6000000000000002,
          0.6250000000000002,
          0.6500000000000002,
          0.6750000000000003,
          0.7000000000000003,
          0.7250000000000003,
          0.7500000000000003,
          0.7750000000000004,
          0.8000000000000004,
          0.8250000000000004,
          0.8500000000000004,
          0.8750000000000004,
          0.9000000000000005,
          0.9250000000000004,
          0.9500000000000004,
          0.9750000000000004
         ],
         "xaxis": "x",
         "y": [
          513,
          337,
          222,
          163,
          124,
          92,
          77,
          62,
          64,
          62,
          61,
          62,
          62,
          62,
          63,
          63,
          63,
          62,
          61,
          63,
          67,
          73,
          75,
          76,
          77,
          78,
          77,
          80,
          79,
          80,
          81,
          83,
          86,
          91,
          94,
          104,
          127,
          153,
          242,
          716
         ],
         "yaxis": "y"
        },
        {
         "hovertemplate": "model_name=thalassiosira_1000_n<br>iou_range=%{x}<br>total_difference=%{y}<extra></extra>",
         "legendgroup": "thalassiosira_1000_n",
         "line": {
          "color": "#FFA15A",
          "dash": "solid"
         },
         "marker": {
          "symbol": "circle"
         },
         "mode": "lines",
         "name": "thalassiosira_1000_n",
         "orientation": "v",
         "showlegend": true,
         "type": "scatter",
         "x": [
          0,
          0.025,
          0.05,
          0.075,
          0.1,
          0.125,
          0.15,
          0.175,
          0.1999999999999999,
          0.2249999999999999,
          0.2499999999999999,
          0.2749999999999999,
          0.3,
          0.325,
          0.35,
          0.375,
          0.4000000000000001,
          0.4250000000000001,
          0.4500000000000001,
          0.4750000000000001,
          0.5000000000000001,
          0.5250000000000001,
          0.5500000000000002,
          0.5750000000000002,
          0.6000000000000002,
          0.6250000000000002,
          0.6500000000000002,
          0.6750000000000003,
          0.7000000000000003,
          0.7250000000000003,
          0.7500000000000003,
          0.7750000000000004,
          0.8000000000000004,
          0.8250000000000004,
          0.8500000000000004,
          0.8750000000000004,
          0.9000000000000005,
          0.9250000000000004,
          0.9500000000000004,
          0.9750000000000004
         ],
         "xaxis": "x",
         "y": [
          513,
          339,
          236,
          174,
          146,
          110,
          92,
          91,
          95,
          95,
          94,
          96,
          96,
          96,
          97,
          97,
          96,
          96,
          96,
          97,
          100,
          109,
          114,
          118,
          119,
          119,
          119,
          119,
          121,
          124,
          124,
          128,
          131,
          136,
          141,
          162,
          178,
          221,
          334,
          968
         ],
         "yaxis": "y"
        }
       ],
       "layout": {
        "font": {
         "size": 20
        },
        "height": 700,
        "legend": {
         "title": {
          "text": ""
         },
         "tracegroupgap": 0
        },
        "template": {
         "data": {
          "bar": [
           {
            "error_x": {
             "color": "#2a3f5f"
            },
            "error_y": {
             "color": "#2a3f5f"
            },
            "marker": {
             "line": {
              "color": "#E5ECF6",
              "width": 0.5
             },
             "pattern": {
              "fillmode": "overlay",
              "size": 10,
              "solidity": 0.2
             }
            },
            "type": "bar"
           }
          ],
          "barpolar": [
           {
            "marker": {
             "line": {
              "color": "#E5ECF6",
              "width": 0.5
             },
             "pattern": {
              "fillmode": "overlay",
              "size": 10,
              "solidity": 0.2
             }
            },
            "type": "barpolar"
           }
          ],
          "carpet": [
           {
            "aaxis": {
             "endlinecolor": "#2a3f5f",
             "gridcolor": "white",
             "linecolor": "white",
             "minorgridcolor": "white",
             "startlinecolor": "#2a3f5f"
            },
            "baxis": {
             "endlinecolor": "#2a3f5f",
             "gridcolor": "white",
             "linecolor": "white",
             "minorgridcolor": "white",
             "startlinecolor": "#2a3f5f"
            },
            "type": "carpet"
           }
          ],
          "choropleth": [
           {
            "colorbar": {
             "outlinewidth": 0,
             "ticks": ""
            },
            "type": "choropleth"
           }
          ],
          "contour": [
           {
            "colorbar": {
             "outlinewidth": 0,
             "ticks": ""
            },
            "colorscale": [
             [
              0,
              "#0d0887"
             ],
             [
              0.1111111111111111,
              "#46039f"
             ],
             [
              0.2222222222222222,
              "#7201a8"
             ],
             [
              0.3333333333333333,
              "#9c179e"
             ],
             [
              0.4444444444444444,
              "#bd3786"
             ],
             [
              0.5555555555555556,
              "#d8576b"
             ],
             [
              0.6666666666666666,
              "#ed7953"
             ],
             [
              0.7777777777777778,
              "#fb9f3a"
             ],
             [
              0.8888888888888888,
              "#fdca26"
             ],
             [
              1,
              "#f0f921"
             ]
            ],
            "type": "contour"
           }
          ],
          "contourcarpet": [
           {
            "colorbar": {
             "outlinewidth": 0,
             "ticks": ""
            },
            "type": "contourcarpet"
           }
          ],
          "heatmap": [
           {
            "colorbar": {
             "outlinewidth": 0,
             "ticks": ""
            },
            "colorscale": [
             [
              0,
              "#0d0887"
             ],
             [
              0.1111111111111111,
              "#46039f"
             ],
             [
              0.2222222222222222,
              "#7201a8"
             ],
             [
              0.3333333333333333,
              "#9c179e"
             ],
             [
              0.4444444444444444,
              "#bd3786"
             ],
             [
              0.5555555555555556,
              "#d8576b"
             ],
             [
              0.6666666666666666,
              "#ed7953"
             ],
             [
              0.7777777777777778,
              "#fb9f3a"
             ],
             [
              0.8888888888888888,
              "#fdca26"
             ],
             [
              1,
              "#f0f921"
             ]
            ],
            "type": "heatmap"
           }
          ],
          "heatmapgl": [
           {
            "colorbar": {
             "outlinewidth": 0,
             "ticks": ""
            },
            "colorscale": [
             [
              0,
              "#0d0887"
             ],
             [
              0.1111111111111111,
              "#46039f"
             ],
             [
              0.2222222222222222,
              "#7201a8"
             ],
             [
              0.3333333333333333,
              "#9c179e"
             ],
             [
              0.4444444444444444,
              "#bd3786"
             ],
             [
              0.5555555555555556,
              "#d8576b"
             ],
             [
              0.6666666666666666,
              "#ed7953"
             ],
             [
              0.7777777777777778,
              "#fb9f3a"
             ],
             [
              0.8888888888888888,
              "#fdca26"
             ],
             [
              1,
              "#f0f921"
             ]
            ],
            "type": "heatmapgl"
           }
          ],
          "histogram": [
           {
            "marker": {
             "pattern": {
              "fillmode": "overlay",
              "size": 10,
              "solidity": 0.2
             }
            },
            "type": "histogram"
           }
          ],
          "histogram2d": [
           {
            "colorbar": {
             "outlinewidth": 0,
             "ticks": ""
            },
            "colorscale": [
             [
              0,
              "#0d0887"
             ],
             [
              0.1111111111111111,
              "#46039f"
             ],
             [
              0.2222222222222222,
              "#7201a8"
             ],
             [
              0.3333333333333333,
              "#9c179e"
             ],
             [
              0.4444444444444444,
              "#bd3786"
             ],
             [
              0.5555555555555556,
              "#d8576b"
             ],
             [
              0.6666666666666666,
              "#ed7953"
             ],
             [
              0.7777777777777778,
              "#fb9f3a"
             ],
             [
              0.8888888888888888,
              "#fdca26"
             ],
             [
              1,
              "#f0f921"
             ]
            ],
            "type": "histogram2d"
           }
          ],
          "histogram2dcontour": [
           {
            "colorbar": {
             "outlinewidth": 0,
             "ticks": ""
            },
            "colorscale": [
             [
              0,
              "#0d0887"
             ],
             [
              0.1111111111111111,
              "#46039f"
             ],
             [
              0.2222222222222222,
              "#7201a8"
             ],
             [
              0.3333333333333333,
              "#9c179e"
             ],
             [
              0.4444444444444444,
              "#bd3786"
             ],
             [
              0.5555555555555556,
              "#d8576b"
             ],
             [
              0.6666666666666666,
              "#ed7953"
             ],
             [
              0.7777777777777778,
              "#fb9f3a"
             ],
             [
              0.8888888888888888,
              "#fdca26"
             ],
             [
              1,
              "#f0f921"
             ]
            ],
            "type": "histogram2dcontour"
           }
          ],
          "mesh3d": [
           {
            "colorbar": {
             "outlinewidth": 0,
             "ticks": ""
            },
            "type": "mesh3d"
           }
          ],
          "parcoords": [
           {
            "line": {
             "colorbar": {
              "outlinewidth": 0,
              "ticks": ""
             }
            },
            "type": "parcoords"
           }
          ],
          "pie": [
           {
            "automargin": true,
            "type": "pie"
           }
          ],
          "scatter": [
           {
            "fillpattern": {
             "fillmode": "overlay",
             "size": 10,
             "solidity": 0.2
            },
            "type": "scatter"
           }
          ],
          "scatter3d": [
           {
            "line": {
             "colorbar": {
              "outlinewidth": 0,
              "ticks": ""
             }
            },
            "marker": {
             "colorbar": {
              "outlinewidth": 0,
              "ticks": ""
             }
            },
            "type": "scatter3d"
           }
          ],
          "scattercarpet": [
           {
            "marker": {
             "colorbar": {
              "outlinewidth": 0,
              "ticks": ""
             }
            },
            "type": "scattercarpet"
           }
          ],
          "scattergeo": [
           {
            "marker": {
             "colorbar": {
              "outlinewidth": 0,
              "ticks": ""
             }
            },
            "type": "scattergeo"
           }
          ],
          "scattergl": [
           {
            "marker": {
             "colorbar": {
              "outlinewidth": 0,
              "ticks": ""
             }
            },
            "type": "scattergl"
           }
          ],
          "scattermapbox": [
           {
            "marker": {
             "colorbar": {
              "outlinewidth": 0,
              "ticks": ""
             }
            },
            "type": "scattermapbox"
           }
          ],
          "scatterpolar": [
           {
            "marker": {
             "colorbar": {
              "outlinewidth": 0,
              "ticks": ""
             }
            },
            "type": "scatterpolar"
           }
          ],
          "scatterpolargl": [
           {
            "marker": {
             "colorbar": {
              "outlinewidth": 0,
              "ticks": ""
             }
            },
            "type": "scatterpolargl"
           }
          ],
          "scatterternary": [
           {
            "marker": {
             "colorbar": {
              "outlinewidth": 0,
              "ticks": ""
             }
            },
            "type": "scatterternary"
           }
          ],
          "surface": [
           {
            "colorbar": {
             "outlinewidth": 0,
             "ticks": ""
            },
            "colorscale": [
             [
              0,
              "#0d0887"
             ],
             [
              0.1111111111111111,
              "#46039f"
             ],
             [
              0.2222222222222222,
              "#7201a8"
             ],
             [
              0.3333333333333333,
              "#9c179e"
             ],
             [
              0.4444444444444444,
              "#bd3786"
             ],
             [
              0.5555555555555556,
              "#d8576b"
             ],
             [
              0.6666666666666666,
              "#ed7953"
             ],
             [
              0.7777777777777778,
              "#fb9f3a"
             ],
             [
              0.8888888888888888,
              "#fdca26"
             ],
             [
              1,
              "#f0f921"
             ]
            ],
            "type": "surface"
           }
          ],
          "table": [
           {
            "cells": {
             "fill": {
              "color": "#EBF0F8"
             },
             "line": {
              "color": "white"
             }
            },
            "header": {
             "fill": {
              "color": "#C8D4E3"
             },
             "line": {
              "color": "white"
             }
            },
            "type": "table"
           }
          ]
         },
         "layout": {
          "annotationdefaults": {
           "arrowcolor": "#2a3f5f",
           "arrowhead": 0,
           "arrowwidth": 1
          },
          "autotypenumbers": "strict",
          "coloraxis": {
           "colorbar": {
            "outlinewidth": 0,
            "ticks": ""
           }
          },
          "colorscale": {
           "diverging": [
            [
             0,
             "#8e0152"
            ],
            [
             0.1,
             "#c51b7d"
            ],
            [
             0.2,
             "#de77ae"
            ],
            [
             0.3,
             "#f1b6da"
            ],
            [
             0.4,
             "#fde0ef"
            ],
            [
             0.5,
             "#f7f7f7"
            ],
            [
             0.6,
             "#e6f5d0"
            ],
            [
             0.7,
             "#b8e186"
            ],
            [
             0.8,
             "#7fbc41"
            ],
            [
             0.9,
             "#4d9221"
            ],
            [
             1,
             "#276419"
            ]
           ],
           "sequential": [
            [
             0,
             "#0d0887"
            ],
            [
             0.1111111111111111,
             "#46039f"
            ],
            [
             0.2222222222222222,
             "#7201a8"
            ],
            [
             0.3333333333333333,
             "#9c179e"
            ],
            [
             0.4444444444444444,
             "#bd3786"
            ],
            [
             0.5555555555555556,
             "#d8576b"
            ],
            [
             0.6666666666666666,
             "#ed7953"
            ],
            [
             0.7777777777777778,
             "#fb9f3a"
            ],
            [
             0.8888888888888888,
             "#fdca26"
            ],
            [
             1,
             "#f0f921"
            ]
           ],
           "sequentialminus": [
            [
             0,
             "#0d0887"
            ],
            [
             0.1111111111111111,
             "#46039f"
            ],
            [
             0.2222222222222222,
             "#7201a8"
            ],
            [
             0.3333333333333333,
             "#9c179e"
            ],
            [
             0.4444444444444444,
             "#bd3786"
            ],
            [
             0.5555555555555556,
             "#d8576b"
            ],
            [
             0.6666666666666666,
             "#ed7953"
            ],
            [
             0.7777777777777778,
             "#fb9f3a"
            ],
            [
             0.8888888888888888,
             "#fdca26"
            ],
            [
             1,
             "#f0f921"
            ]
           ]
          },
          "colorway": [
           "#636efa",
           "#EF553B",
           "#00cc96",
           "#ab63fa",
           "#FFA15A",
           "#19d3f3",
           "#FF6692",
           "#B6E880",
           "#FF97FF",
           "#FECB52"
          ],
          "font": {
           "color": "#2a3f5f"
          },
          "geo": {
           "bgcolor": "white",
           "lakecolor": "white",
           "landcolor": "#E5ECF6",
           "showlakes": true,
           "showland": true,
           "subunitcolor": "white"
          },
          "hoverlabel": {
           "align": "left"
          },
          "hovermode": "closest",
          "mapbox": {
           "style": "light"
          },
          "paper_bgcolor": "white",
          "plot_bgcolor": "#E5ECF6",
          "polar": {
           "angularaxis": {
            "gridcolor": "white",
            "linecolor": "white",
            "ticks": ""
           },
           "bgcolor": "#E5ECF6",
           "radialaxis": {
            "gridcolor": "white",
            "linecolor": "white",
            "ticks": ""
           }
          },
          "scene": {
           "xaxis": {
            "backgroundcolor": "#E5ECF6",
            "gridcolor": "white",
            "gridwidth": 2,
            "linecolor": "white",
            "showbackground": true,
            "ticks": "",
            "zerolinecolor": "white"
           },
           "yaxis": {
            "backgroundcolor": "#E5ECF6",
            "gridcolor": "white",
            "gridwidth": 2,
            "linecolor": "white",
            "showbackground": true,
            "ticks": "",
            "zerolinecolor": "white"
           },
           "zaxis": {
            "backgroundcolor": "#E5ECF6",
            "gridcolor": "white",
            "gridwidth": 2,
            "linecolor": "white",
            "showbackground": true,
            "ticks": "",
            "zerolinecolor": "white"
           }
          },
          "shapedefaults": {
           "line": {
            "color": "#2a3f5f"
           }
          },
          "ternary": {
           "aaxis": {
            "gridcolor": "white",
            "linecolor": "white",
            "ticks": ""
           },
           "baxis": {
            "gridcolor": "white",
            "linecolor": "white",
            "ticks": ""
           },
           "bgcolor": "#E5ECF6",
           "caxis": {
            "gridcolor": "white",
            "linecolor": "white",
            "ticks": ""
           }
          },
          "title": {
           "x": 0.05
          },
          "xaxis": {
           "automargin": true,
           "gridcolor": "white",
           "linecolor": "white",
           "ticks": "",
           "title": {
            "standoff": 15
           },
           "zerolinecolor": "white",
           "zerolinewidth": 2
          },
          "yaxis": {
           "automargin": true,
           "gridcolor": "white",
           "linecolor": "white",
           "ticks": "",
           "title": {
            "standoff": 15
           },
           "zerolinecolor": "white",
           "zerolinewidth": 2
          }
         }
        },
        "title": {
         "text": "Thalassiosira IOU Accuracy"
        },
        "width": 700,
        "xaxis": {
         "anchor": "y",
         "domain": [
          0,
          1
         ],
         "title": {
          "text": "IOU Thresholds"
         }
        },
        "yaxis": {
         "anchor": "x",
         "domain": [
          0,
          1
         ],
         "title": {
          "text": "Difference in Counts"
         },
         "type": "log"
        }
       }
      }
     },
     "metadata": {},
     "output_type": "display_data"
    }
   ],
   "source": [
    "df1 = pd.read_csv(f'IFCB Chain Counter/IFCBChainCounts_{class_name}_x/results/overall_results.csv')\n",
    "df2 = pd.read_csv(f'IFCB Chain Counter/IFCBChainCounts_{class_name}_l/results/overall_results.csv')\n",
    "df3 = pd.read_csv(f'IFCB Chain Counter/IFCBChainCounts_{class_name}_m/results/overall_results.csv')\n",
    "df4 = pd.read_csv(f'IFCB Chain Counter/IFCBChainCounts_{class_name}_s/results/overall_results.csv')\n",
    "df5 = pd.read_csv(f'IFCB Chain Counter/IFCBChainCounts_{class_name}_n/results/overall_results.csv')\n",
    "\n",
    "df = pd.concat([df1,df2,df3,df4,df5]) \n",
    "df['model_name'] = df['model_name'].str.replace('IFCBChainCounts_', '')\n",
    "\n",
    "print(df)\n",
    "fig = px.line(df, x='iou_range', log_y=True, y='total_difference', color='model_name', title='Chaetoceros - IOU Accuracy')\n",
    "\n",
    "fig.update_layout(\n",
    "    title=dict(\n",
    "        text=\"Thalassiosira IOU Accuracy\"\n",
    "    ),\n",
    "    xaxis=dict(\n",
    "        title=dict(\n",
    "            text=\"IOU Thresholds\"\n",
    "        )\n",
    "    ),\n",
    "    yaxis=dict(\n",
    "        title=dict(\n",
    "            text=\"Difference in Counts\"\n",
    "        )\n",
    "    ),\n",
    "    legend=dict(\n",
    "        title=dict(\n",
    "            text=\"\"\n",
    "        ),\n",
    "        #visible=False\n",
    "    ),\n",
    "    width=700,\n",
    "    height=700,\n",
    "    font=dict(\n",
    "        #family=\"Courier New, monospace\",\n",
    "        size=20,\n",
    "        #color=\"RebeccaPurple\"\n",
    "    )\n",
    ")\n",
    "fig.show()"
   ]
  },
  {
   "cell_type": "markdown",
   "metadata": {},
   "source": [
    "OPTIMAL IOU\n",
    "\n",
    "\n",
    "| Genus | Model | Optimal IOU | Total Instances | Difference | \n",
    "|:--------:|:--------:|:--------:|:--------:|:--------:|\n",
    "|  Chaetoceros   |  Nano  |  0.325   | 3809 | 186 |\n",
    "|  Chaetoceros   |  Small  |  0.4   | 3809 | 224 |\n",
    "|  Chaetoceros   |  Medium   |  0.375   | 3809 | 210 |\n",
    "|  Chaetoceros   |  Large  |  0.375   |3809 | 224 |\n",
    "|  Chaetoceros   |  Xtra Large   |  0.375   | 3809 | 241|\n",
    "|  Pseudo-Nitzschia | Nano | 0.125 to 0.475 | 1177 | 10 |\n",
    "|  Pseudo-Nitzschia | Small | 0.625 to 0.725 | 1177 | 10 |\n",
    "|  Pseudo-Nitzschia | Medium | 0.125 to 0.325 | 1177 | 12 |\n",
    "|  Pseudo-Nitzschia | Large | 0.35 - 0.4 | 1177 | 8 |\n",
    "|  Pseudo-Nitzschia | Xtra Large | 0.425 | 1177 | 9 |\n",
    "|  Skeletonema   |  Nano  |  0.525 to 0.65   | 1826 | 7 |\n",
    "|  Skeletonema   |  Small  |  0.025   | 1826 | 5 |\n",
    "|  Skeletonema   |  Medium   |  0.025   | 1826 | 8 |\n",
    "|  Skeletonema   |  Large  |  0.025   | 1826 | 7 |\n",
    "|  Skeletonema   |  Xtra Large   |  0.025   | 1826 | 9 |\n",
    "|  Thalassiosira | Nano | 0.175 | 3295 | 91 |\n",
    "|  Thalassiosira | Small | 0.25 and 0.45 | 3295 | 61 |\n",
    "|  Thalassiosira | Medium | 0.3 to 0.325 | 3295 | 63 |\n",
    "|  Thalassiosira | Large | 0.225 4 | 3295 | 72 |\n",
    "|  Thalassiosira | Xtra Large | 0.325 to 0.35 | 3295 | 79 |\n",
    "\n",
    "\n"
   ]
  },
  {
   "cell_type": "markdown",
   "metadata": {},
   "source": [
    "Skeletonema Nano - Best IOU: 0.525 to 0.65 Diff: 11\n",
    "Skeletonema Small - Best IOU 0.025 Diff: 9\n",
    "Skeletonema Medium - Best IOU 0.025 Diff: 12\n",
    "Skeletonema Large - Best IOU 0.025 - 0.05 Diff: 11\n",
    "Skeletonema Xtra Large - Best IOU 0.025 - 0.05 Diff: 13\n",
    "\n",
    "Chaetoceros Nano - Best IOU: 0.325 Diff: 212\n",
    "Chaetoceros Small - Best IOU 0.4 and 0.45 Diff: 238\n",
    "Chaetoceros Medium - Best IOU 0.375 Diff: 226\n",
    "Chaetoceros Large - Best IOU 0.375 Diff: 236\n",
    "Chaetoceros Xtra Large - Best IOU 0.375 Diff: 255"
   ]
  },
  {
   "cell_type": "code",
   "execution_count": null,
   "metadata": {},
   "outputs": [
    {
     "name": "stdout",
     "output_type": "stream",
     "text": [
      "Total Difference is:  186\n",
      "Total Time to Infer is:  26.337639331817627\n"
     ]
    }
   ],
   "source": [
    "optimal_iou_for_class = 0.325\n",
    "\n",
    "df = pd.read_csv(f'datasets/{class_name}/images/test/test_image_counts.csv')\n",
    "\n",
    "count_score = []\n",
    "times = []\n",
    "#start_time = datetime.now()\n",
    "#total_infer_time = 0\n",
    "for index, row in df.iterrows():\n",
    "    #print(row['file_name'], \" Cell Count: \", row['cell_count'])\n",
    "    start_time = time.time()\n",
    "    results = model([f\"datasets/{class_name}/images/test/\"+ row[\"file_name\"]], iou=optimal_iou_for_class, verbose=False)\n",
    "    #infer_time_end = datetime.now()\n",
    "    end_time = time.time()\n",
    "    times.append(end_time - start_time)\n",
    "    #get occurences in image from results and save output image\n",
    "    for result in results:\n",
    "        boxes = result.boxes  # Boxes object for bounding box outputs\n",
    "        probs = result.probs  # Probs object for classification outputs\n",
    "    \n",
    "        count_score.append(len(result.boxes))\n",
    "        \n",
    "        #annotated_img = result.plot(line_width=1, font_size=10)\n",
    "        result.save(filename=\"IFCB Chain Counter/\" + name + f\"/results/result_{row['file_name']}\", line_width=1)\n",
    "        #annotated_img.show()\n",
    "        #annotated_img.save(filename=\"IFCB Chain Counter/\" + name + f\"/results/annotated_img_{row['file_name']}\")\n",
    "    \n",
    "test_results = df\n",
    "test_results['output_count'] = count_score\n",
    "test_results['difference'] = test_results['cell_count'] - test_results['output_count']\n",
    "test_results['time'] = times\n",
    "\n",
    "\n",
    "total_difference = test_results['difference'].abs().sum()\n",
    "total_time = test_results['time'].sum()\n",
    "\n",
    "print(\"Total Difference is: \" , total_difference)\n",
    "print(\"Total Time to Infer is: \" , total_time)\n",
    "file_to_save = \"IFCB Chain Counter/\" + name + f\"/results/{name}_output_counts_final.csv\"\n",
    "test_results.to_csv(file_to_save, index=False)\n",
    "\n",
    "\n",
    "\n",
    "    \n",
    "\n",
    "\n",
    "\n",
    "\n"
   ]
  },
  {
   "cell_type": "markdown",
   "metadata": {},
   "source": [
    "| Genus | Model | Run 1 | Run 2 | Run 3 | Avg | \n",
    "|:--------:|:--------:|:--------:|:--------:|:--------:|:--------:|\n",
    "|Chaetoceros |Nano| 8.798026084899902| 8.30193281173706| 8.786971807479858| 8.628976901|\n",
    "|Chaetoceros |Small| 8.649919271469116| 9.316676616668701| 8.257943868637085| 8.741513252|\n",
    "|Chaetoceros |Medium| 9.346074104309082| 11.148280143737793| 11.080913066864014| 10.5250891|\n",
    "|Chaetoceros |Large| 13.531863689422607| 15.499467611312866| 14.070124626159668| 14.36715198|\n",
    "|Chaetoceros |Xtra large| 12.930631399154663| 14.235334634780884| 13.70563817024231| 13.62386807|\n",
    "|Pseudo-Nitzschia |Nano| 7.298567771911621| 7.747407913208008| 7.6361403465271| 7.560705344|\n",
    "|Pseudo-Nitzschia |Small| 8.061251640319824| 7.467475414276123| 8.227312326431274| 7.918679794|\n",
    "|Pseudo-Nitzschia |Medium| 9.42411184310913| 9.25805115699768| 9.486964464187622|  9.389709155|\n",
    "|Pseudo-Nitzschia |Large| 13.5796537399292| 13.227951765060425| 12.159743547439575| 12.98911635|\n",
    "|Pseudo-Nitzschia |Xtra large| 13.237974166870117|  11.832287788391113| 14.361827850341797| 13.14402994|\n",
    "|Skeletonema |Nano| 7.862987279891968| 7.515233516693115| 8.05016827583313| 7.809463024 |\n",
    "|Skeletonema |Small| 7.864756345748901| 7.239608287811279|  7.467054128646851| 7.523806254 |\n",
    "|Skeletonema |Medium|  8.652581930160522| 9.1401526927948| 9.087902545928955| 8.96021239 |\n",
    "|Skeletonema |Large| 12.601239681243896| 12.296869277954102| 13.649321556091309| 12.84914351 |\n",
    "|Skeletonema |Xtra Large| 14.671318054199219| 12.892750263214111|  11.769779682159424| 13.11128267 |\n",
    "|Thalassiosira |Nano| 9.330669403076172| 8.533891439437866| 8.335193872451782| 8.733251572 |\n",
    "|Thalassiosira |Small| 8.654560565948486| 9.869890689849854|9.012516975402832| 9.17898941 |\n",
    "|Thalassiosira |Medium| 10.763086080551147| 10.753660440444946| 9.914618015289307| 10.47712151 |\n",
    "|Thalassiosira |Large| 15.487650394439697|  14.836585283279419| 14.296731948852539| 14.87365588 |\n",
    "|Thalassiosira |Xlarge|   15.210422039031982| 14.428626775741577| 14.856074810028076| 14.83170787 |\n",
    "\n",
    "\n",
    "\n"
   ]
  }
 ],
 "metadata": {
  "kernelspec": {
   "display_name": "IFCBChainCounts_VENV",
   "language": "python",
   "name": "python3"
  },
  "language_info": {
   "codemirror_mode": {
    "name": "ipython",
    "version": 3
   },
   "file_extension": ".py",
   "mimetype": "text/x-python",
   "name": "python",
   "nbconvert_exporter": "python",
   "pygments_lexer": "ipython3",
   "version": "3.11.9"
  }
 },
 "nbformat": 4,
 "nbformat_minor": 2
}
